{
 "cells": [
  {
   "cell_type": "markdown",
   "metadata": {},
   "source": [
    "## A Guide to Digitizing Historical Maps Using QGIS, Python, and Lightroom\n",
    "\n",
    "Authors: Haicheng Xu & Idaliya Grigoryeva"
   ]
  },
  {
   "cell_type": "markdown",
   "metadata": {},
   "source": [
    "### Intro\n",
    "\n",
    "This guide will walk you through the process of digitizing a historical map, using a map of Indonesia as our example. Our goal is to extract the road network to create a friction surface, representing the travel cost between any two points. We specifically chose a map where the roads are distinctly red, allowing for easier extraction.\n",
    "\n",
    "3 steps for digitizing: \n",
    "\n",
    "0. The original map raster:\n",
    "\n",
    "    <img src = \"Images/step-0.jpg\"  alt=\"nearest points to path 1\" width=\"300\"/>\n",
    "\n",
    "1. In Lightroom, desaturate all colors except red to isolate the roads.\n",
    "\n",
    "    <img src = \"Images/step-1.jpg\"  alt=\"nearest points to path 1\" width=\"300\"/>\n",
    "\n",
    "2. Use the map_to_bw function to convert the processed map to black and white.\n",
    "\n",
    "    <img src = \"Images/step-2.jpg\"  alt=\"nearest points to path 1\" width=\"300\"/>\n",
    "\n",
    "3. Import the black-and-white map into QGIS, convert the raster to points, and connect the points using the \"nearest points to path\" tool.\n",
    "\n",
    "    <img src = \"Images/result-1.jpg\"  alt=\"nearest points to path 1\" width=\"400\"/>\n",
    "    <img src = \"Images/result-good3.jpg\"  alt=\"nearest points to path 1\" width=\"400\"/>\n",
    "\n"
   ]
  },
  {
   "cell_type": "markdown",
   "metadata": {},
   "source": [
    "Map Download:\n",
    "\n",
    "You can access the Indonesia map here: [Indonesia Map](https://digitalcollections.universiteitleiden.nl/view/item/814037?solr_nav%5Bid%5D=425f4cdcd85c99e9fcfd&solr_nav%5Bpage%5D=0&solr_nav%5Boffset%5D=11) (this map is from Leiden University Library digital collection)\n",
    "\n",
    "Note: Please download the \"Original Master\" version of the map for the best result."
   ]
  },
  {
   "cell_type": "markdown",
   "metadata": {},
   "source": [
    "### 1. Extracting red roads with Lightroom"
   ]
  },
  {
   "cell_type": "markdown",
   "metadata": {},
   "source": [
    "<small>* Notes about Lightroom:\n",
    "\n",
    "- Adobe Lightroom is a popular photo editing and management software used by photographers and creatives to enhance and organize their images. It offers powerful tools for adjusting exposure, color, sharpness, and more, as well as features for cataloging and organizing large photo libraries.\n",
    "\n",
    "- Adobe Lightroom offers both a free and a paid version. The free version is a mobile app, but the desktop version I will be using for this tutorial is the paid version.\n",
    "\n",
    "- This guide assumes you have some prior experience with Lightroom. If you're new to the software, I suggest starting with beginner tutorials available on YouTube or Adobe’s website.\n",
    "\n",
    "Link to download Lightroom [here](https://www.adobe.com/products/photoshop-lightroom/campaign/pricing.html?gclid=CjwKCAjwuMC2BhA7EiwAmJKRrPLp1CHwbcyfkBg5m4mQuitbiKv8sRZDBmG98TKa3WOgaapQQS2F2xoC2QEQAvD_BwE&sdid=BDDS3CR2&mv=search&mv2=paidsearch&ef_id=CjwKCAjwuMC2BhA7EiwAmJKRrPLp1CHwbcyfkBg5m4mQuitbiKv8sRZDBmG98TKa3WOgaapQQS2F2xoC2QEQAvD_BwE:G:s&s_kwcid=AL!3085!3!677050899114!e!!g!!adobe%20lightroom!1712238382!67643557900&mv=search&gad_source=1)\n",
    "\n",
    "</small>"
   ]
  },
  {
   "cell_type": "markdown",
   "metadata": {},
   "source": [
    "##### What we're trying to achieve in step 1 and why: \n",
    "\n",
    "The map image you’ve downloaded is made up of pixels, with each pixel's color represented by three values: red (r), green (g), and blue (b). This system, known as RGB, is the foundation of digital color representation. Each value ranges from 0 to 255, and by combining different intensities of red, green, and blue, any color can be created.\n",
    "\n",
    "For our digitization process, we’re interested only in the roads, which are distinctly marked in red on the map. To simplify the extraction of these roads, we need to eliminate the influence of all other colors, leaving only the red pixels. This is why we desaturate all colors except for red in Lightroom—by doing so, we isolate the roads, making them easier to convert into a black-and-white image in the next step.\n",
    "\n",
    "Here are the steps to extracting red pixels from the map:"
   ]
  },
  {
   "cell_type": "markdown",
   "metadata": {},
   "source": [
    "0. Import the Map into Lightroom: Start by importing the map image into Lightroom.\n",
    "\n",
    "1. Eliminate the saturation for all colors except for red.\n",
    "\n",
    "2. Boost overall saturation to 100 to make it easier for python program (next step) to identify the red.\n",
    "\n",
    "    <img src=\"Images/lr-1.jpg\" alt=\"Saturation adjustments\" width=\"500\"/>\n",
    "\n"
   ]
  },
  {
   "cell_type": "markdown",
   "metadata": {},
   "source": [
    "3. Decrease the saturation of midtone and shadow areas to remove some red noise from the yellow background of the map.\n",
    "\n",
    "4. Increase the saturation of highlight areas to make the red more prominent.\n",
    "\n",
    "    <img src=\"Images/lr-2.jpg\" alt=\"Color grading adjustments\" width=\"500\"/>\n"
   ]
  },
  {
   "cell_type": "markdown",
   "metadata": {},
   "source": [
    "5. Using color noise reduction to further reduce the red noise due to the yellow background.\n",
    "\n",
    "    <img src=\"Images/lr-3.jpg\" alt=\"Image Description\" width=\"500\"/>\n"
   ]
  },
  {
   "cell_type": "markdown",
   "metadata": {},
   "source": [
    "6. Export the image from lightroom and select large size. \n",
    "\n",
    "    <img src = 'Images/lr-5.jpg' alt = 'Lr export' width=\"500\">"
   ]
  },
  {
   "cell_type": "markdown",
   "metadata": {},
   "source": [
    "Now, you have a grey scaled image with only one color object (roads in red) that you can import to python and convert to black and white in the next step, isolating the roads."
   ]
  },
  {
   "cell_type": "markdown",
   "metadata": {},
   "source": [
    "_______________"
   ]
  },
  {
   "cell_type": "markdown",
   "metadata": {},
   "source": [
    "### 2. Convert processed map to black and white with Python"
   ]
  },
  {
   "cell_type": "markdown",
   "metadata": {},
   "source": [
    "Having obtained the processed image from Step 1, where we've isolated the red pixels (representing roads), we will now convert the image to black and white using Python. The purpose of this step is to further simplify the image by turning the red pixels into white and all other pixels into black. This binary (black and white) image makes it easier to extract the road network as a shapefile in QGIS.\n",
    "\n",
    "What the function map_to_bw does:\n",
    "\n",
    "- Input: The function takes the file path of the processed image as input (image_path).\n",
    "- Output: It outputs a black-and-white image, saved as 'Sulawesi_bw.png' in the specified directory.\n",
    "- Middle: The function processes each pixel in the image, checking if it’s red. If it is, the pixel is turned white; otherwise, it’s turned black.\n"
   ]
  },
  {
   "cell_type": "markdown",
   "metadata": {},
   "source": [
    "<small> * Notes about Python:\n",
    "\n",
    "- Python is a versatile programming language widely used for data processing, automation, and scripting tasks in various fields, including geospatial analysis.\n",
    "\n",
    "- In this step, we use Python to process the image by isolating specific color pixels and converting the map to black and white, making it easier to extract road networks in QGIS.\n",
    "\n",
    "- This guide assumes basic familiarity with Python. If you’re new to Python, consider exploring introductory tutorials online.\n",
    "\n",
    "Link to download Python [here](https://www.python.org/downloads/).\n",
    "\n",
    "</small>"
   ]
  },
  {
   "cell_type": "markdown",
   "metadata": {},
   "source": [
    "<small> * Notes about Visual Studio Code (VSCode):\n",
    "\n",
    "- VSCode is a lightweight but powerful code editor that supports a wide range of programming languages, including Python. It offers built-in debugging, Git integration, and a rich extension ecosystem.\n",
    "\n",
    "- I used VSCode to write and execute Python scripts for preprocessing the historical map data before importing it into QGIS.\n",
    "\n",
    "- This guide assumes basic knowledge of VSCode. If you're unfamiliar with it, check out tutorials available on the official website.\n",
    "\n",
    "Link to download VSCode [here](https://code.visualstudio.com/Download).\n",
    "\n",
    "</small>\n"
   ]
  },
  {
   "cell_type": "markdown",
   "metadata": {},
   "source": [
    "1.  Open a Jupyter Notebook file in VSCode"
   ]
  },
  {
   "cell_type": "markdown",
   "metadata": {},
   "source": [
    "<img src = 'Images/open_jpynb-1.jpg' alt = 'Lr export' width=\"800\">"
   ]
  },
  {
   "cell_type": "markdown",
   "metadata": {},
   "source": [
    "<img src = 'Images/open_jpynb-2.jpg' alt = 'Lr export' width=\"800\">"
   ]
  },
  {
   "cell_type": "markdown",
   "metadata": {},
   "source": [
    "2. Copy and paste \"pip intall Image\" to a cell in your jupyter notebook file and run that cell by pressing shift + enter at the same time"
   ]
  },
  {
   "cell_type": "code",
   "execution_count": 1,
   "metadata": {},
   "outputs": [
    {
     "name": "stdout",
     "output_type": "stream",
     "text": [
      "Requirement already satisfied: Image in /Users/haichengxu/anaconda3/lib/python3.11/site-packages (1.5.33)\n",
      "Requirement already satisfied: pillow in /Users/haichengxu/anaconda3/lib/python3.11/site-packages (from Image) (9.4.0)\n",
      "Requirement already satisfied: django in /Users/haichengxu/anaconda3/lib/python3.11/site-packages (from Image) (5.1.1)\n",
      "Requirement already satisfied: six in /Users/haichengxu/anaconda3/lib/python3.11/site-packages (from Image) (1.16.0)\n",
      "Requirement already satisfied: asgiref<4,>=3.8.1 in /Users/haichengxu/anaconda3/lib/python3.11/site-packages (from django->Image) (3.8.1)\n",
      "Requirement already satisfied: sqlparse>=0.3.1 in /Users/haichengxu/anaconda3/lib/python3.11/site-packages (from django->Image) (0.5.1)\n",
      "Note: you may need to restart the kernel to use updated packages.\n"
     ]
    }
   ],
   "source": [
    "pip install Image"
   ]
  },
  {
   "cell_type": "markdown",
   "metadata": {},
   "source": [
    "3. VSCode will ask you to choose a Kernel sorce. Select Python Environments:"
   ]
  },
  {
   "cell_type": "markdown",
   "metadata": {},
   "source": [
    "<img src = 'Images/install_python.jpg' alt = 'Lr export' width=\"800\">"
   ]
  },
  {
   "cell_type": "markdown",
   "metadata": {},
   "source": [
    "4. Install python by selecting the recommended Python environment:"
   ]
  },
  {
   "cell_type": "markdown",
   "metadata": {},
   "source": [
    "<img src = 'Images/download_python-2.jpg' alt = 'Lr export' width=\"800\">"
   ]
  },
  {
   "cell_type": "markdown",
   "metadata": {},
   "source": [
    "5. After Python is installed, run the pip install Image again."
   ]
  },
  {
   "cell_type": "markdown",
   "metadata": {},
   "source": [
    "6. Save the jupyter notebook file."
   ]
  },
  {
   "cell_type": "markdown",
   "metadata": {},
   "source": [
    "6. Copy and paste the following code to another cell. Change the second to last line of code \"im.save('Images/Sulawesi_bw.png')\" to the path of the folder you want the image to be saved to. For example, if you want the processed image to appear in the same place you saved your jupyter notebook, change the line to \"im.save('Sulawesi_bw.png')\"."
   ]
  },
  {
   "cell_type": "markdown",
   "metadata": {},
   "source": [
    "##### Note: I renamed my processed image to \"Sulawesi_processed.jpg\". In order for the following code to work, you need to either rename your image to \"Sulawesi_processed.jpg\" or change the input_path = \"your_image_file_path\""
   ]
  },
  {
   "cell_type": "code",
   "execution_count": 1,
   "metadata": {},
   "outputs": [],
   "source": [
    "from PIL import Image\n",
    "import os\n",
    "\n",
    "input_path = 'Images/Sulawesi_processed.jpg'\n",
    "output_path = 'Images/Sulawesi_bw.png'\n",
    "\n",
    "def map_to_bw(image_path):\n",
    "    # Open the image from the specified path\n",
    "\n",
    "    # Check if the directory already exists\n",
    "    if not os.path.exists(output_path):\n",
    "        # Create the directory if it does not exist\n",
    "        os.mkdir(output_path)\n",
    "    else:\n",
    "        # Optionally, print a message if the directory already exists\n",
    "        print(\"Directory already exists:\", output_path)\n",
    "\n",
    "    im = Image.open(image_path)\n",
    "\n",
    "    # Ensure the image is in RGB mode, which represents each pixel's color with three values: red, green, and blue\n",
    "    im = im.convert(\"RGB\")\n",
    "\n",
    "    # Get a pixel access object, allowing us to read and modify the image's pixels\n",
    "    pix = im.load()\n",
    "\n",
    "    # Iterate over every pixel in the image using nested loops\n",
    "    # Loop through each column (width)\n",
    "    for x in range(im.width):  \n",
    "        # Loop through each row (height)\n",
    "        for y in range(im.height):  \n",
    "            # Retrieve the RGB values of the current pixel\n",
    "            r, g, b = pix[x, y]\n",
    "            \n",
    "            # Check if the pixel is predominantly red by comparing the red value to green and blue\n",
    "            # The condition checks if the red value is significantly higher than the green and blue\n",
    "            if (r - g + r - b) > 80:\n",
    "                # If the pixel is red, change it to white (RGB: 256, 256, 256)\n",
    "                pix[x, y] = (256, 256, 256)\n",
    "            else:\n",
    "                # If the pixel is not red (i.e., it's grey or another color), change it to black (RGB: 0, 0, 0)\n",
    "                pix[x, y] = (0, 0, 0)\n",
    "\n",
    "    # Save the modified image as 'Sulawesi_bw.png' in the specified directory\n",
    "    # The line below assumes you have \"Images\" subfolder in your working directory. Create one if you don't.\n",
    "    im.save(output_path)\n",
    "\n",
    "    print('Successfully Created BW Image.')\n"
   ]
  },
  {
   "cell_type": "markdown",
   "metadata": {},
   "source": [
    "7. Copy and paste the code below to another cell and run the map_to_bw function:"
   ]
  },
  {
   "cell_type": "code",
   "execution_count": 11,
   "metadata": {},
   "outputs": [],
   "source": [
    "map_to_bw('Images/Sulawesi_processed.jpg')"
   ]
  },
  {
   "cell_type": "markdown",
   "metadata": {},
   "source": [
    "8. Resulting Map:\n",
    "\n",
    "    <img src = \"Images/step-2.jpg\"  alt=\"nearest points to path 1\" width=\"300\"/>\n"
   ]
  },
  {
   "cell_type": "markdown",
   "metadata": {},
   "source": [
    "_______________"
   ]
  },
  {
   "cell_type": "markdown",
   "metadata": {},
   "source": [
    "### 3. Digitizing b&w map using QGIS "
   ]
  },
  {
   "cell_type": "markdown",
   "metadata": {},
   "source": [
    "<small> *Notes about QGIS:\n",
    "\n",
    "- QGIS is a powerful open-source Geographic Information System (GIS) software used by professionals and enthusiasts alike for mapping and spatial analysis. It offers a wide range of tools for visualizing, analyzing, and editing geographic data, making it a go-to choice for tasks like creating maps, conducting spatial analysis, and managing geospatial data.\n",
    "\n",
    "- QGIS is freely available, and its open-source nature means it’s constantly being improved by a global community of developers. This tutorial assumes you have some basic experience with QGIS. If you’re new to the software, I recommend reading the [QGIS documentation](https://docs.qgis.org/3.34/en/docs/user_manual/)\n",
    "\n",
    "You can download QGIS [here](https://www.qgis.org/download/) [Download the long term version for the best result]\n",
    "\n",
    "<img src = \"Images/QGIS_Download.jpg\"  alt=\"QGIS_Download\" width=\"300\"/>\n",
    "\n"
   ]
  },
  {
   "cell_type": "markdown",
   "metadata": {},
   "source": [
    "In this step, we use QGIS to georeference the processed map from step 2, overlay it with OpenStreetMap (OSM) layers, and convert the road network from raster to vector data. This process involves aligning the historical map with real-world coordinates and extracting the road information for further analysis.\n",
    "\n",
    "Here are the steps to create vector road data using QGIS:"
   ]
  },
  {
   "cell_type": "markdown",
   "metadata": {},
   "source": [
    "1. Download QuickMapService plugin if you don’t have it \n",
    "2. Open a OSM standard layer\n",
    "\n",
    "    <img src = \"Images/osm_layer.jpg\"  alt=\"opening osm layer\" width=\"500\"/>\n"
   ]
  },
  {
   "cell_type": "markdown",
   "metadata": {},
   "source": [
    "3. Georeference the Sulawesi_bw.png onto OSM standard using this method: https://www.youtube.com/watch?v=jKLBFddpTGI\n",
    "\n",
    "    Note 1: add 10-20 reference points throughout the North, South, East, and West corners of the map for the best results.\n",
    "\n",
    "    Note 2: QGIS may freeze when referencing images over 10MB, downsize or compress your image in Lightroom or other software to resolve the issue.\n",
    "\n",
    "    Note3: To find georeferencer (or any function that you have trouble finding), use the help function [if you still cannot find it, go to plugins and search for it there]:\n",
    "\n",
    "    <img src = \"Images/georeferencer.jpg\"  alt=\"georeferencing-1\" width=\"500\"/>\n",
    "\n",
    "\n",
    "4. Click into layer property by double clicking the Sulawesi_bw layer and change its transparency to 50%.\n",
    "\n",
    "5. Resulting Georeferenced map of Sulawesi:\n",
    "\n",
    "    <img src = \"Images/georeferenced_result-1.jpg\"  alt=\"georeferencing-1\" width=\"500\"/>\n",
    "\n",
    "    <img src = \"Images/georeferenced_result-2.jpg\"  alt=\"georeferencing-2\" width=\"500\"/>\n",
    "\n",
    "    <img src = \"Images/georeferenced_result-3.jpg\"  alt=\"georeferencing-3\" width=\"500\"/>\n",
    "\n"
   ]
  },
  {
   "cell_type": "markdown",
   "metadata": {},
   "source": [
    "Now that we've georeferenced the map onto OSM, we will convert the jpeg map (raster) to vector points in steps 6-9:\n",
    "\n",
    "**Note: Go to Plugins and install Process X plugin if you have not already.**\n",
    "\n",
    "6. Using raster pixels to points function to convert roads in white to vector/point data\n",
    "\n",
    "    Note: [Link](https://www.youtube.com/watch?v=3UNz09UyXa8) to a video following a different example similar to steps 6-9\n",
    "\n",
    "7. Run the function with the georeferenced map from step 5 as input\n",
    "\n",
    "    <img src = \"Images/rptp-1.jpg\"  alt=\"raster pixels to points 1\" width=\"500\"/>\n",
    "\n",
    "    <img src = \"Images/rptp-2.jpg\"  alt=\"raster pixels to points 2\" width=\"500\"/>\n",
    "\n",
    "**Note: Save output file to a perminant location by selecting the path here:**\n",
    "\n",
    "<img src = \"Images/Saving_layer.jpg\"  alt=\"Saving_layer\" width=\"500\"/>"
   ]
  },
  {
   "cell_type": "markdown",
   "metadata": {},
   "source": [
    "After running raster pixels to points, you'll probably be overwhelmed by the countless points covering the entire map. This is because the function converts every pixel to a point regardless of its color (black or white). To remove all the black point and leaving only the white roads:\n",
    "\n",
    "8. Right click on vector points → properties →  Symbology → categorized (from the top drop-down menu → select value (from the value drop-down menu) → classify\n",
    "\n",
    "    <img src = \"Images/classify_raw_points.jpg\"  alt=\"raster pixels to points result\" width=\"500\"/>\n",
    "\n",
    "9. After classifying, go to sources (we’re still in properties menu) → provide feature filter → query builder → type \"VALUE\" = 255 → OK\n",
    "\n",
    "    <img src = \"Images/Query_Builder.jpg\"  alt=\"raster pixels to points result\" width=\"500\"/>\n",
    "\n",
    "\n",
    "    Result:\n",
    "\n",
    "    <img src = \"Images/rptp-3.jpg\"  alt=\"raster pixels to points result\" width=\"500\"/>\n",
    "\n",
    "    South West Corner:\n",
    "\n",
    "    <img src = \"Images/rptp-4.jpg\"  alt=\"raster pixels to points result SW\" width=\"500\"/>\n",
    "\n"
   ]
  },
  {
   "cell_type": "markdown",
   "metadata": {},
   "source": [
    "If you zoom into the map, you'll realize some roads are wider than others, and most raods has a width of more than 1 pixel. However, we only want the road to be 1 pixel wide. To achieve that, we can use geodesic points to decimate function to reduce the duplicated points\n",
    "\n",
    "10. In the top toolbar: Vector → Shape Tools → Geodesic Geometry Simplification → Geodesic Point Decimate\n",
    "\n",
    "    <img src = \"Images/gpd-1.jpg\"  alt=\"raster pixels to points result SW\" width=\"500\"/>\n",
    "\n",
    "\n",
    "    <img src = \"Images/gpd-3.jpg\"  alt=\"raster pixels to points result SW\" width=\"500\"/>\n",
    "\n",
    "* Note: The best parameter for minimum distance between point differs between maps. 5000 meters seems to work best for this map after testing multiple parameter values.\n",
    "\n",
    "\n",
    "11. Result:\n",
    "\n",
    "    <img src = \"Images/gpd-4.jpg\"  alt=\"raster pixels to points result SW\" width=\"500\"/>\n",
    "\n",
    "    <img src = \"Images/gpd-5.jpg\"  alt=\"raster pixels to points result SW\" width=\"500\"/>\n",
    "\n",
    "    <img src = \"Images/gpd-6.jpg\"  alt=\"raster pixels to points result SW\" width=\"500\"/>\n",
    "\n",
    "\n"
   ]
  },
  {
   "cell_type": "markdown",
   "metadata": {},
   "source": [
    "Finally, we will connect the points with lines using the nearest points to path function\n",
    "\n",
    "12. Find nearest points to path in processing toolbox → use the point layer (5km) from step 11 → parameters: Max Distance = 3000, Max points = 0    \n",
    "\n",
    "    <img src = \"Images/ptp-1.jpg\"  alt=\"nearest points to path 1\" width=\"500\"/>\n",
    "\n",
    "<small> * Note * \n",
    "\n",
    "1. This took my m2 macbook pro 13 about 2-3 hours to run\n",
    "2. The optimal parameters for max distance and max point for different maps will likely be different. I've tried several different configurations and found max distance = 3000 and max points = 0 works best for my map. I recommend playing with these two parameters with 3000,0 as baseline. Also, I suggest running it overnight for the best use of your time :)\n",
    "\n",
    "</small> \n",
    "\n",
    "13. Result:\n",
    "\n",
    "    <img src = \"Images/ptp-2.jpg\"  alt=\"nearest points to path 1\" width=\"500\"/>\n",
    "\n",
    "    <img src = \"Images/ptp-3.jpg\"  alt=\"nearest points to path 1\" width=\"500\"/>\n",
    "\n",
    "    <img src = \"Images/ptp-4.jpg\"  alt=\"nearest points to path 1\" width=\"500\"/>\n",
    "\n"
   ]
  },
  {
   "cell_type": "markdown",
   "metadata": {},
   "source": [
    "# Clean Points before connecting points to path"
   ]
  },
  {
   "cell_type": "markdown",
   "metadata": {},
   "source": [
    "Manual Cleaning\n",
    "\n",
    "On the map of Sulawesi, you might notice some pixels in the middle of the ocean. Some of them are from the legend, while others are from the edges of the map. The final step is to select and remove these pixels manually.\n",
    "\n",
    "14. Select the pixels you want to remove using the select feature by area tool on the top tool bar. Select the first group by drawing a rectangle around them. To select additional groups of pixels, hold down the shift key while making your selection.\n",
    "\n",
    "\n",
    "    <img src = \"Images/cleaning-1.jpg\"  alt=\"nearest points to path 1\" width=\"500\"/>\n",
    "\n",
    "    <img src = \"Images/cleaning-2.jpg\"  alt=\"nearest points to path 1\" width=\"500\"/>\n",
    "    \n",
    "\n"
   ]
  },
  {
   "cell_type": "markdown",
   "metadata": {},
   "source": [
    "# select layer before editing and deleteing"
   ]
  },
  {
   "cell_type": "markdown",
   "metadata": {},
   "source": [
    "15. After you have selected the pixels they will be highlighted yellow. Click on Toggle Edit, then click Delete Selected. Finally, click Toggle Edit again and click save to save your deletion.\n",
    "\n",
    "    <img src = \"Images/cleaning-4.jpg\"  alt=\"nearest points to path 1\" width=\"500\"/>\n",
    "\n",
    "    <img src = \"Images/cleaning-5.jpg\"  alt=\"nearest points to path 1\" width=\"500\"/>\n",
    "    \n",
    "    <img src = \"Images/cleaning-6.jpg\"  alt=\"nearest points to path 1\" width=\"500\"/>"
   ]
  },
  {
   "cell_type": "markdown",
   "metadata": {},
   "source": [
    "Woohoo! We're done :)"
   ]
  },
  {
   "cell_type": "markdown",
   "metadata": {},
   "source": [
    "________________"
   ]
  },
  {
   "cell_type": "markdown",
   "metadata": {},
   "source": [
    "### Road Digitization Results "
   ]
  },
  {
   "cell_type": "markdown",
   "metadata": {},
   "source": [
    "#### Results Summary\n",
    "\n",
    "- Accuracy: This process achieves a digitized map of red roads with approximately 80% to 90% accuracy (I estimated the accuracy by exploring different areas of the map, seeing how close the ).\n",
    "\n",
    "- Input Data Quality: The accuracy of digitization largely depends on the quality of the input map. The more distinctly the red roads stand out from other elements, the higher the accuracy. Ideally, the map should feature roads in a unique red color, with no other map elements in similar shades (e.g., orange or yellow). Such a map would yield near-perfect results with this method.\n",
    "\n",
    "- Road Definition: The main roads, being wider and more clearly defined, are the most accurately digitized. In contrast, smaller roads, especially those represented by dashed lines, are less precise.\n",
    "\n",
    "- Intersections: Road intersections may not be fully accurate due to the limitations of the nearest points to path algorithm, which prevents connecting a point that's already part of another connection. As a result, some intersections will be correctly joined, while others may remain disjointed."
   ]
  },
  {
   "cell_type": "markdown",
   "metadata": {},
   "source": [
    "I overlayed the road on top of the raster map to examine the accuracy of the digitization process:\n",
    "\n",
    "1. The entire map\n",
    "\n",
    "    <img src = \"Images/result-1.jpg\"  alt=\"nearest points to path 1\" width=\"500\"/>\n",
    "\n",
    "2. Southeast\n",
    "\n",
    "    <img src = \"Images/result-se.jpg\"  alt=\"nearest points to path 1\" width=\"500\"/>\n",
    "\n",
    "3. Southwest\n",
    "\n",
    "    <img src = \"Images/result-sw.jpg\"  alt=\"nearest points to path 1\" width=\"500\"/>\n",
    "\n",
    "4. Northeast\n",
    "\n",
    "    <img src = \"Images/result-ne.jpg\"  alt=\"nearest points to path 1\" width=\"500\"/>\n",
    "\n",
    "5. Northwest\n",
    "\n",
    "    <img src = \"Images/result-nw.jpg\"  alt=\"nearest points to path 1\" width=\"500\"/>"
   ]
  },
  {
   "cell_type": "markdown",
   "metadata": {},
   "source": [
    "#### Accurate sections/samples:\n",
    "\n",
    "1. The skinny portion in northeastern Sulawesi      \n",
    "\n",
    "    <img src = \"Images/result-good1.jpg\"  alt=\"nearest points to path 1\" width=\"500\"/>\n",
    "\n",
    "2. Central Sulawesi\n",
    "\n",
    "    <img src = \"Images/result-good2.jpg\"  alt=\"nearest points to path 1\" width=\"500\"/>\n",
    "\n",
    "3. The southwestern leg of Sulawesi \n",
    "\n",
    "    <img src = \"Images/result-good3.jpg\"  alt=\"nearest points to path 1\" width=\"500\"/>\n"
   ]
  },
  {
   "cell_type": "markdown",
   "metadata": {},
   "source": [
    "#### Less accurate sections/samples:\n",
    "\n",
    "1. Roads that are represented by dotted lines are not connected well. \n",
    "\n",
    "    <img src = \"Images/result-p1.jpg\"  alt=\"nearest points to path 1\" width=\"500\"/>\n",
    "\n",
    "2. Intersections of multiple roads are not represented correctly.\n",
    "\n",
    "    <img src = \"Images/result-p2.jpg\"  alt=\"nearest points to path 1\" width=\"500\"/>\n",
    "\n",
    "3. Small parts of the main road is disconnected\n",
    "\n",
    "    <img src = \"Images/result-p3.jpg\"  alt=\"nearest points to path 1\" width=\"500\"/>\n"
   ]
  },
  {
   "cell_type": "markdown",
   "metadata": {},
   "source": [
    "While the automated process yields good results, there may still be minor inaccuracies, especially in areas with complex intersections or smaller roads. For our purposes, the frequency of imprecisely placed roads is low enough that the automated results are generally sufficient. However, for those aiming for higher precision, QGIS offers powerful manual editing tools that can help refine the digitization:\n",
    "\n",
    "- Vertex Editing: You can manually adjust the vertices of the digitized roads to correct their alignment, particularly at intersections or where smaller roads may not have been accurately captured.\n",
    "\n",
    "- Snapping Options: QGIS allows you to set snapping options to ensure that road intersections align perfectly. By configuring the snapping distance and enabling it for vertices or edges, you can make sure that roads connect smoothly at intersections.\n",
    "\n",
    "- Topology Checker: This tool helps identify errors in the digitized road network, such as disjointed intersections or overlapping lines. Once identified, these issues can be manually corrected for better accuracy.\n",
    "\n",
    "By combining these manual editing features with the automated process, you can achieve a higher level of precision, particularly in areas where road details are more complex or poorly defined."
   ]
  },
  {
   "cell_type": "markdown",
   "metadata": {},
   "source": []
  }
 ],
 "metadata": {
  "kernelspec": {
   "display_name": "Python 3.11.5 ('base')",
   "language": "python",
   "name": "python3"
  },
  "language_info": {
   "codemirror_mode": {
    "name": "ipython",
    "version": 3
   },
   "file_extension": ".py",
   "mimetype": "text/x-python",
   "name": "python",
   "nbconvert_exporter": "python",
   "pygments_lexer": "ipython3",
   "version": "3.11.5"
  },
  "orig_nbformat": 4,
  "vscode": {
   "interpreter": {
    "hash": "2d17124966eaa142a39aca84db1fd53d03519130e1962b9bbc122c55b668b962"
   }
  }
 },
 "nbformat": 4,
 "nbformat_minor": 2
}
