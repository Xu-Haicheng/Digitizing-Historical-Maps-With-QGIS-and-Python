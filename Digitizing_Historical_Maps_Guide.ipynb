{
 "cells": [
  {
   "cell_type": "code",
   "execution_count": null,
   "metadata": {},
   "outputs": [],
   "source": []
  }
 ],
 "metadata": {
  "kernelspec": {
   "display_name": "Python 3.11.5 ('base')",
   "language": "python",
   "name": "python3"
  },
  "language_info": {
   "name": "python",
   "version": "3.11.5"
  },
  "orig_nbformat": 4,
  "vscode": {
   "interpreter": {
    "hash": "2d17124966eaa142a39aca84db1fd53d03519130e1962b9bbc122c55b668b962"
   }
  }
 },
 "nbformat": 4,
 "nbformat_minor": 2
}
