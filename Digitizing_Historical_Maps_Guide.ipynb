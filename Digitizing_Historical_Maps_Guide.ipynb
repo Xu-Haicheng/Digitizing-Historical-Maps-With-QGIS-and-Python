{
 "cells": [
  {
   "cell_type": "markdown",
   "metadata": {},
   "source": [
    "## A Guide to Digitizing Historical Maps Using QGIS, Python, and Lightroom\n",
    "\n",
    "Authors: Haicheng Xu & Idaliya Grigoryeva"
   ]
  },
  {
   "cell_type": "markdown",
   "metadata": {},
   "source": [
    "### Intro\n",
    "\n",
    "This guide will walk you through the complete process of digitizing a historical map, using a map of Indonesia from our project as an example. Our goal is to digitize the road network in Indonesia to create a friction surface that represents the travel cost between any two points. With this objective in mind, we focused on finding a map where the roads are clearly distinguishable from other features. To achieve accurate digitization, we selected a map where only the roads are red, making them easy to extract.\n",
    "\n",
    "Steps for digitizing: \n",
    "1. Eliminate the saturation for all colors except for red in Lightroom\n",
    "2. Use road_to_1 function below to convert the processed map from step 1 to black and white\n",
    "3. Import the black and white map from step 2 into QGIS\n",
    "4. Convert the raster to points then connect the points using nearest points to path in QGIS\n"
   ]
  },
  {
   "cell_type": "markdown",
   "metadata": {},
   "source": [
    "### Map Download\n",
    "\n",
    "Link to the Indonesia map: https://digitalcollections.universiteitleiden.nl/view/item/814037?solr_nav%5Bid%5D=425f4cdcd85c99e9fcfd&solr_nav%5Bpage%5D=0&solr_nav%5Boffset%5D=11 \n",
    "\n",
    "Note: Please download the \"Original Master\" version of the map for the best result."
   ]
  },
  {
   "cell_type": "code",
   "execution_count": null,
   "metadata": {},
   "outputs": [],
   "source": []
  },
  {
   "cell_type": "code",
   "execution_count": null,
   "metadata": {},
   "outputs": [],
   "source": []
  }
 ],
 "metadata": {
  "kernelspec": {
   "display_name": "Python 3.11.5 ('base')",
   "language": "python",
   "name": "python3"
  },
  "language_info": {
   "name": "python",
   "version": "3.11.5"
  },
  "orig_nbformat": 4,
  "vscode": {
   "interpreter": {
    "hash": "2d17124966eaa142a39aca84db1fd53d03519130e1962b9bbc122c55b668b962"
   }
  }
 },
 "nbformat": 4,
 "nbformat_minor": 2
}
