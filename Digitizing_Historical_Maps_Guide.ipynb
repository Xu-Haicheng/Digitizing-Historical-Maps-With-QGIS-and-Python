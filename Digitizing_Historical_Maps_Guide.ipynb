{
 "cells": [
  {
   "cell_type": "markdown",
   "metadata": {},
   "source": [
    "## A Guide to Digitizing Historical Maps Using QGIS, Python, and Lightroom\n",
    "\n",
    "Authors: Haicheng Xu & Idaliya Grigoryeva"
   ]
  },
  {
   "cell_type": "markdown",
   "metadata": {},
   "source": [
    "### Intro\n",
    "\n",
    "This guide will walk you through the complete process of digitizing a historical map, using a map of Indonesia from our project as an example. Our goal is to digitize the road network in Indonesia to create a friction surface that represents the travel cost between any two points. With this objective in mind, we focused on finding a map where the roads are clearly distinguishable from other features. To achieve accurate digitization, we selected a map where only the roads are red, making them easy to extract.\n",
    "\n",
    "Steps for digitizing: \n",
    "1. Eliminate the saturation for all colors except for red in Lightroom\n",
    "2. Use map_to_bw function below to convert the processed map from step 1 to black and white\n",
    "3. Import the black and white map from step 2 into QGIS\n",
    "4. Convert the raster to points then connect the points using nearest points to path in QGIS\n"
   ]
  },
  {
   "cell_type": "markdown",
   "metadata": {},
   "source": [
    "### Map Download\n",
    "\n",
    "You can access the Indonesia map here: [Indonesia Map](https://digitalcollections.universiteitleiden.nl/view/item/814037?solr_nav%5Bid%5D=425f4cdcd85c99e9fcfd&solr_nav%5Bpage%5D=0&solr_nav%5Boffset%5D=11).\n",
    "\n",
    "Note: Please download the \"Original Master\" version of the map for the best result."
   ]
  },
  {
   "cell_type": "markdown",
   "metadata": {},
   "source": [
    "### Lightroom"
   ]
  },
  {
   "cell_type": "markdown",
   "metadata": {},
   "source": [
    "1. Eliminate the saturation for all colors except for red.\n",
    "\n",
    "2. Boost overall saturation to 100 to make it easier for python program (next step) to identify the red.\n",
    "\n",
    "    <img src=\"Images/lr-1.jpg\" alt=\"Saturation adjustments\" width=\"500\"/>\n",
    "\n"
   ]
  },
  {
   "cell_type": "markdown",
   "metadata": {},
   "source": [
    "3. Decrease the saturation of midtone and shadow areas to remove some red noise from the yellow background of the map.\n",
    "\n",
    "4. Increase the saturation of highlight areas to make the red more prominent.\n",
    "\n",
    "    <img src=\"Images/lr-2.jpg\" alt=\"Color grading adjustments\" width=\"500\"/>\n"
   ]
  },
  {
   "cell_type": "markdown",
   "metadata": {},
   "source": [
    "5. Using color noise reduction to further reduce the red noise due to the yellow background.\n",
    "\n",
    "    <img src=\"Images/lr-3.jpg\" alt=\"Image Description\" width=\"500\"/>\n"
   ]
  },
  {
   "cell_type": "markdown",
   "metadata": {},
   "source": [
    "6. Export the image from lightroom and select large size. \n",
    "\n",
    "    <img src = 'Images/lr-5.jpg' alt = 'Lr export' width=\"500\">"
   ]
  },
  {
   "cell_type": "markdown",
   "metadata": {},
   "source": [
    "### map_to_bw processing using Python"
   ]
  },
  {
   "cell_type": "code",
   "execution_count": 3,
   "metadata": {},
   "outputs": [],
   "source": [
    "from PIL import Image"
   ]
  },
  {
   "cell_type": "code",
   "execution_count": 7,
   "metadata": {},
   "outputs": [],
   "source": [
    "def map_to_bw (image_path):\n",
    "    # Open the image\n",
    "    im = Image.open(image_path)\n",
    "\n",
    "    # Convert the image to RGB mode if it's not in that mode already\n",
    "    im = im.convert(\"RGB\")\n",
    "\n",
    "    # Get the pixel access object\n",
    "    pix = im.load()\n",
    "\n",
    "    # Iterate through each pixel and keep only red pixels\n",
    "    for x in range(im.width):\n",
    "        for y in range(im.height):\n",
    "            r, g, b = pix[x, y]\n",
    "\n",
    "            if (r-g + r-b) > 80:\n",
    "                # set red pixels\n",
    "                pix[x, y] = (256, 256, 256)\n",
    "            else:\n",
    "                # Set colorless pixels to black\n",
    "                pix[x, y] = (0, 0, 0)\n",
    "\n",
    "    # Save or display the modified image\n",
    "    im.save('Images/Sulawesi_bw.png')"
   ]
  },
  {
   "cell_type": "code",
   "execution_count": 8,
   "metadata": {},
   "outputs": [
    {
     "name": "stderr",
     "output_type": "stream",
     "text": [
      "/Users/haichengxu/anaconda3/lib/python3.11/site-packages/PIL/Image.py:3167: DecompressionBombWarning: Image size (107641488 pixels) exceeds limit of 89478485 pixels, could be decompression bomb DOS attack.\n",
      "  warnings.warn(\n"
     ]
    }
   ],
   "source": [
    "map_to_bw('Images/Sulawesi_processed.jpg')"
   ]
  },
  {
   "cell_type": "markdown",
   "metadata": {},
   "source": [
    "### QGIS Digitization"
   ]
  },
  {
   "cell_type": "markdown",
   "metadata": {},
   "source": [
    "1. Download QuickMapService plugin if you don’t have it \n",
    "2. Open a OSM standard layer\n",
    "\n",
    "    <img src = \"Images/osm_layer.jpg\"  alt=\"opening osm layer\" width=\"500\"/>\n"
   ]
  },
  {
   "cell_type": "markdown",
   "metadata": {},
   "source": [
    "3. Georeference the Sulawesi_bw.png onto OSM standard using this method: https://www.youtube.com/watch?v=jKLBFddpTGI\n",
    "\n",
    "    Note: add 10-20 reference points throughout the North, South, East, and West corners of the map for the best result\n",
    "\n",
    "4. Click into layer property by double clicking the Sulawesi_bw layer and change its transparency to 50%.\n",
    "\n",
    "5. Resulting Georeferenced map of Sulawesi\n",
    "\n",
    "    <img src = \"Images/georeferenced_result-1.jpg\"  alt=\"opening osm layer\" width=\"500\"/>\n",
    "\n",
    "    <img src = \"Images/georeferenced_result-2.jpg\"  alt=\"opening osm layer\" width=\"500\"/>\n",
    "\n",
    "    <img src = \"Images/georeferenced_result-3.jpg\"  alt=\"opening osm layer\" width=\"500\"/>\n",
    "\n"
   ]
  },
  {
   "cell_type": "markdown",
   "metadata": {},
   "source": [
    "6. Using raster pixels to points function to convert roads in white to vector/point data\n",
    "\n",
    "7. Run the function with the modified map as input\n",
    "\n",
    "\n"
   ]
  },
  {
   "cell_type": "markdown",
   "metadata": {},
   "source": [
    "8. Then right click on vector points → properties →  Symbology → categorized (from the top drop-down menu → select value (from the value drop-down menu) → classify\n",
    "\n",
    "9. After classifying, go to sources (we’re still in properties menu) → provide feature filter → query builder → type \"VALUE\" = 255 → OK"
   ]
  },
  {
   "cell_type": "markdown",
   "metadata": {},
   "source": []
  }
 ],
 "metadata": {
  "kernelspec": {
   "display_name": "Python 3.11.5 ('base')",
   "language": "python",
   "name": "python3"
  },
  "language_info": {
   "codemirror_mode": {
    "name": "ipython",
    "version": 3
   },
   "file_extension": ".py",
   "mimetype": "text/x-python",
   "name": "python",
   "nbconvert_exporter": "python",
   "pygments_lexer": "ipython3",
   "version": "3.11.5"
  },
  "orig_nbformat": 4,
  "vscode": {
   "interpreter": {
    "hash": "2d17124966eaa142a39aca84db1fd53d03519130e1962b9bbc122c55b668b962"
   }
  }
 },
 "nbformat": 4,
 "nbformat_minor": 2
}
